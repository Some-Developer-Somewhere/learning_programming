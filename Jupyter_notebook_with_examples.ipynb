{
 "cells": [
  {
   "cell_type": "code",
   "execution_count": 21,
   "metadata": {},
   "outputs": [
    {
     "name": "stdout",
     "output_type": "stream",
     "text": [
      "12\n"
     ]
    }
   ],
   "source": [
    "a = 5\n",
    "b = 7\n",
    "\n",
    "print(a + b)"
   ]
  },
  {
   "cell_type": "code",
   "execution_count": 22,
   "metadata": {},
   "outputs": [],
   "source": [
    "addition = a + b\n",
    "subtraction = a - b\n",
    "multiplication = a * b\n",
    "division = a / b\n",
    "exponentiation = a ** b\n",
    "modulus = a % b"
   ]
  },
  {
   "cell_type": "code",
   "execution_count": 23,
   "metadata": {},
   "outputs": [],
   "source": [
    "integer_example = 5\n",
    "float_example = 3.14\n",
    "string_example = \"Hello\"\n",
    "list_example = [1, 2, 3]\n",
    "dictionary_example = {'a': 1, 'b': 2}\n",
    "boolean_example = True"
   ]
  },
  {
   "cell_type": "code",
   "execution_count": 24,
   "metadata": {},
   "outputs": [
    {
     "name": "stdout",
     "output_type": "stream",
     "text": [
      "a is not greater than b\n"
     ]
    }
   ],
   "source": [
    "if a > b:\n",
    "    print(\"a is greater than b\")\n",
    "else:\n",
    "    print(\"a is not greater than b\")"
   ]
  },
  {
   "cell_type": "code",
   "execution_count": 25,
   "metadata": {},
   "outputs": [
    {
     "name": "stdout",
     "output_type": "stream",
     "text": [
      "1\n",
      "2\n",
      "3\n",
      "4\n",
      "5\n"
     ]
    }
   ],
   "source": [
    "a_list = [1,2,3,4,5]\n",
    "\n",
    "for a_number in a_list:\n",
    "    print(a_number)"
   ]
  },
  {
   "cell_type": "code",
   "execution_count": 26,
   "metadata": {},
   "outputs": [
    {
     "name": "stdout",
     "output_type": "stream",
     "text": [
      "You cannot divide 0 by 0.\n"
     ]
    }
   ],
   "source": [
    "try:\n",
    "    result = 0 / 0\n",
    "except:\n",
    "    print(\"You cannot divide 0 by 0.\")"
   ]
  },
  {
   "cell_type": "code",
   "execution_count": 27,
   "metadata": {},
   "outputs": [
    {
     "name": "stdout",
     "output_type": "stream",
     "text": [
      "Hello from file\n",
      "This is a second line\n"
     ]
    }
   ],
   "source": [
    "some_text = \"Hello from file\\nThis is a second line\"\n",
    "\n",
    "with open('example.txt', 'w') as file:\n",
    "    file.write(some_text)\n",
    "\n",
    "with open('example.txt', 'r') as file:\n",
    "    content = file.read()\n",
    "    print(content)"
   ]
  },
  {
   "cell_type": "code",
   "execution_count": 28,
   "metadata": {},
   "outputs": [
    {
     "name": "stdout",
     "output_type": "stream",
     "text": [
      "Hello Alice\n"
     ]
    }
   ],
   "source": [
    "def greet(name):\n",
    "    return \"Hello \" + name\n",
    "\n",
    "print(greet(\"Alice\"))"
   ]
  },
  {
   "cell_type": "code",
   "execution_count": 29,
   "metadata": {},
   "outputs": [
    {
     "name": "stdout",
     "output_type": "stream",
     "text": [
      "John Doe is 28 years old.\n",
      "John Doe is 29 years old.\n"
     ]
    }
   ],
   "source": [
    "class Person:\n",
    "    def __init__(self, first_name, last_name, age):\n",
    "        self.first_name = first_name\n",
    "        self.last_name = last_name\n",
    "        self.age = age\n",
    "\n",
    "    def full_name(self):\n",
    "        return f\"{self.first_name} {self.last_name}\"\n",
    "\n",
    "    def run_birthday(self):\n",
    "        self.age += 1\n",
    "\n",
    "\n",
    "person = Person(\"John\", \"Doe\", 28)\n",
    "\n",
    "print(f\"{person.full_name()} is {person.age} years old.\")\n",
    "\n",
    "person.run_birthday()\n",
    "\n",
    "print(f\"{person.full_name()} is {person.age} years old.\")"
   ]
  },
  {
   "cell_type": "code",
   "execution_count": 30,
   "metadata": {},
   "outputs": [
    {
     "name": "stdout",
     "output_type": "stream",
     "text": [
      "c:\\GIT\\GitHub_sds\\learning_programming\n"
     ]
    }
   ],
   "source": [
    "import os\n",
    "current_directory = os.getcwd()\n",
    "print(current_directory)"
   ]
  },
  {
   "cell_type": "code",
   "execution_count": 31,
   "metadata": {},
   "outputs": [
    {
     "name": "stdout",
     "output_type": "stream",
     "text": [
      "['.git', '.gpt', 'example.txt', 'inner_folder', 'Jupyter_notebook_with_examples.ipynb', 'readme.md', 'temp_notes.md']\n"
     ]
    }
   ],
   "source": [
    "import os\n",
    "items = os.listdir('.')\n",
    "print(items)"
   ]
  },
  {
   "cell_type": "code",
   "execution_count": 34,
   "metadata": {},
   "outputs": [
    {
     "name": "stdout",
     "output_type": "stream",
     "text": [
      "c:\\GIT\\GitHub_sds\\learning_programming\\example.txt\n"
     ]
    }
   ],
   "source": [
    "import os\n",
    "folder_path = 'c:\\\\GIT\\\\GitHub_sds\\\\learning_programming'\n",
    "file_name = 'example.txt'\n",
    "file_path = os.path.join(folder_path, file_name)\n",
    "print(file_path)"
   ]
  },
  {
   "cell_type": "code",
   "execution_count": 35,
   "metadata": {},
   "outputs": [
    {
     "name": "stdout",
     "output_type": "stream",
     "text": [
      "Is a file: True\n",
      "Is a directory: False\n"
     ]
    }
   ],
   "source": [
    "import os\n",
    "path = 'example.txt'\n",
    "print(\"Is a file:\", os.path.isfile(path))\n",
    "print(\"Is a directory:\", os.path.isdir(path))"
   ]
  },
  {
   "cell_type": "code",
   "execution_count": 36,
   "metadata": {},
   "outputs": [
    {
     "name": "stdout",
     "output_type": "stream",
     "text": [
      "Changed directory to: c:\\GIT\\GitHub_sds\\learning_programming\\inner_folder\n"
     ]
    }
   ],
   "source": [
    "import os\n",
    "os.chdir('inner_folder')\n",
    "print(\"Changed directory to:\", os.getcwd())"
   ]
  }
 ],
 "metadata": {
  "kernelspec": {
   "display_name": "Python 3",
   "language": "python",
   "name": "python3"
  },
  "language_info": {
   "codemirror_mode": {
    "name": "ipython",
    "version": 3
   },
   "file_extension": ".py",
   "mimetype": "text/x-python",
   "name": "python",
   "nbconvert_exporter": "python",
   "pygments_lexer": "ipython3",
   "version": "3.12.1"
  }
 },
 "nbformat": 4,
 "nbformat_minor": 2
}
